{
 "cells": [
  {
   "cell_type": "markdown",
   "id": "577c5f3c-3039-4bae-83a0-96234f30219f",
   "metadata": {},
   "source": [
    "**constraints**\n",
    "\n",
    "**x1 + x2 <= 40** \n",
    "\n",
    "**x1 + x2 <= 60** \n",
    "\n",
    "**x1,x2 >= 0**  \n"
   ]
  },
  {
   "cell_type": "code",
   "execution_count": 1,
   "id": "48e8ba7f-a70e-4d69-bc97-a3739605dcc5",
   "metadata": {},
   "outputs": [],
   "source": [
    "import numpy as np \n",
    "import random \n",
    "import matplotlib.pyplot as plt\n"
   ]
  },
  {
   "cell_type": "code",
   "execution_count": null,
   "id": "be83b28d-32c1-4f75-8c5a-02c155e2e9c1",
   "metadata": {},
   "outputs": [],
   "source": [
    "# Defining the objective function \n",
    "\n",
    "def objective_function(x1,x2):\n",
    "    return 4*x1 + 3*x2\n",
    "\n",
    "# Defining the constraints\n",
    "\n",
    "def constraint1(x1,x2):\n",
    "    return x1 + x2 <=40\n",
    "\n",
    "def constraint2(x1,x2):\n",
    "    return 2*x1 + x2 <=60"
   ]
  }
 ],
 "metadata": {
  "kernelspec": {
   "display_name": "Python 3 (ipykernel)",
   "language": "python",
   "name": "python3"
  },
  "language_info": {
   "codemirror_mode": {
    "name": "ipython",
    "version": 3
   },
   "file_extension": ".py",
   "mimetype": "text/x-python",
   "name": "python",
   "nbconvert_exporter": "python",
   "pygments_lexer": "ipython3",
   "version": "3.11.3"
  }
 },
 "nbformat": 4,
 "nbformat_minor": 5
}
