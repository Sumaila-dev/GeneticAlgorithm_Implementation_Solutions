{
 "cells": [
  {
   "cell_type": "markdown",
   "id": "577c5f3c-3039-4bae-83a0-96234f30219f",
   "metadata": {},
   "source": [
    "**constraints**\n",
    "\n",
    "**x1 + x2 <= 40** \n",
    "\n",
    "**x1 + x2 <= 60** \n",
    "\n",
    "**x1,x2 >= 0**  \n"
   ]
  },
  {
   "cell_type": "code",
   "execution_count": 1,
   "id": "48e8ba7f-a70e-4d69-bc97-a3739605dcc5",
   "metadata": {},
   "outputs": [],
   "source": [
    "import numpy as np \n",
    "import random \n",
    "import matplotlib.pyplot as plt\n"
   ]
  },
  {
   "cell_type": "code",
   "execution_count": 2,
   "id": "be83b28d-32c1-4f75-8c5a-02c155e2e9c1",
   "metadata": {},
   "outputs": [],
   "source": [
    "# Defining the objective function \n",
    "\n",
    "def objective_function(x1,x2):\n",
    "    return 4*x1 + 3*x2\n",
    "\n",
    "# Defining the constraints\n",
    "\n",
    "def constraint1(x1,x2):\n",
    "    return x1 + x2 <=40\n",
    "\n",
    "def constraint2(x1,x2):\n",
    "    return 2*x1 + x2 <=60"
   ]
  },
  {
   "cell_type": "code",
   "execution_count": 3,
   "id": "68a8a230-2cdf-44a4-a1ab-4fd20a7efdc3",
   "metadata": {},
   "outputs": [],
   "source": [
    "def genetic_algorithm(population_size,num_generation):\n",
    "\n",
    "    # Initialization\n",
    "    population = []\n",
    "    fitness_history = []\n",
    "\n",
    "    for i in range(population_size):\n",
    "        x1 = random.uniform(0,40)\n",
    "        x2 = random.uniform(0,60)\n",
    "        population.append((x1,x2))\n",
    "\n",
    "    best_solution = None\n",
    "    best_fitness = float('-inf')\n",
    "\n",
    "    for generation in range(num_generation):\n",
    "        # Evaluation\n",
    "        fitness = [objective_function(x1,x2) for x1, x2 in population]\n",
    "        \n",
    "        feasible_population = [individual for individual in population if constraint1(individual[0],individual[1]) and constraint2(individual[0],individual[1])]  \n",
    "    \n",
    "        # Selection\n",
    "        if feasible_population:\n",
    "            feasible_fitness = [objective_function(x1,x2) for x1, x2 in feasible_population]\n",
    "            parents = random.choices(feasible_population,weight=feasiblle_fitness,k=population_size)\n",
    "        else:\n",
    "            parents = []\n",
    "            while len(parents)<population_size:\n",
    "                potential_parents = random.choice(population,weight=fitness)\n",
    "                if constraint1(potential_parents[0],potential_parents[1]) and constraint2(potential_parents[0],potential_parents[1]):\n",
    "                    parents.append(potential_parents)\n",
    "    \n",
    "        # Crossover\n",
    "        offspring = []\n",
    "        for i in range(population_size):\n",
    "            parent1,parent2 = random.choices(parents,k=2)\n",
    "            x1_child = random.uniform(min(parent1[0],parent2[0]),max(parent1[0],parent2[0]))\n",
    "            x2_child = random.uniform(min(parent1[1],parent2[1]),max(parent1[1],parent2[1]))\n",
    "            offspring.append((x1_child,x2_child))\n",
    "    \n",
    "        # Mutation\n",
    "        mutation_rate = 1/(generation+1) #Dynamic mutation rate \n",
    "        for i in range(population_size):\n",
    "            if random.random()<mutation_rate:\n",
    "                offspring[i] = (random.uniform(0,40),random.uniform(0,60))\n",
    "    \n"
   ]
  },
  {
   "cell_type": "code",
   "execution_count": null,
   "id": "ced6807b-eda6-4696-8d02-80a7c0713833",
   "metadata": {},
   "outputs": [],
   "source": []
  }
 ],
 "metadata": {
  "kernelspec": {
   "display_name": "Python 3 (ipykernel)",
   "language": "python",
   "name": "python3"
  },
  "language_info": {
   "codemirror_mode": {
    "name": "ipython",
    "version": 3
   },
   "file_extension": ".py",
   "mimetype": "text/x-python",
   "name": "python",
   "nbconvert_exporter": "python",
   "pygments_lexer": "ipython3",
   "version": "3.11.3"
  }
 },
 "nbformat": 4,
 "nbformat_minor": 5
}
