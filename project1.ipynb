{
 "cells": [
  {
   "cell_type": "markdown",
   "id": "577c5f3c-3039-4bae-83a0-96234f30219f",
   "metadata": {},
   "source": [
    "**constraints**\n",
    "\n",
    "**x1 + x2 <= 40** \n",
    "\n",
    "**x1 + x2 <= 60** \n",
    "\n",
    "**x1,x2 >= 0**  \n"
   ]
  },
  {
   "cell_type": "code",
   "execution_count": 1,
   "id": "48e8ba7f-a70e-4d69-bc97-a3739605dcc5",
   "metadata": {},
   "outputs": [],
   "source": [
    "import numpy as np \n",
    "import random \n",
    "import matplotlib.pyplot as plt\n"
   ]
  },
  {
   "cell_type": "code",
   "execution_count": 2,
   "id": "be83b28d-32c1-4f75-8c5a-02c155e2e9c1",
   "metadata": {},
   "outputs": [],
   "source": [
    "# Defining the objective function \n",
    "\n",
    "def objective_function(x1,x2):\n",
    "    return 4*x1 + 3*x2\n",
    "\n",
    "# Defining the constraints\n",
    "\n",
    "def constraint1(x1,x2):\n",
    "    return x1 + x2 <=40\n",
    "\n",
    "def constraint2(x1,x2):\n",
    "    return 2*x1 + x2 <=60"
   ]
  },
  {
   "cell_type": "markdown",
   "id": "6cf40c78-144a-42d7-a3ed-00dd686e6860",
   "metadata": {},
   "source": [
    "**Genetic Algorithm Function**"
   ]
  },
  {
   "cell_type": "code",
   "execution_count": 3,
   "id": "68a8a230-2cdf-44a4-a1ab-4fd20a7efdc3",
   "metadata": {},
   "outputs": [],
   "source": [
    "def genetic_algorithm(population_size,num_generation):\n",
    "\n",
    "    # Initialization\n",
    "    population = []\n",
    "    fitness_history = []\n",
    "\n",
    "    for i in range(population_size):\n",
    "        x1 = random.uniform(0,40)\n",
    "        x2 = random.uniform(0,60)\n",
    "        population.append((x1,x2))\n",
    "\n",
    "    best_solution = None\n",
    "    best_fitness = float('-inf')\n",
    "\n",
    "    for generation in range(num_generation):\n",
    "        # Evaluation\n",
    "        fitness = [objective_function(x1,x2) for x1, x2 in population]\n",
    "        \n",
    "        feasible_population = [individual for individual in population if constraint1(individual[0],individual[1]) and constraint2(individual[0],individual[1])]  \n",
    "    \n",
    "        # Selection\n",
    "        if feasible_population:\n",
    "            feasible_fitness = [objective_function(x1,x2) for x1, x2 in feasible_population]\n",
    "            parents = random.choices(feasible_population,weights=feasible_fitness,k=population_size)\n",
    "        else:\n",
    "            parents = []\n",
    "            while len(parents)<population_size:\n",
    "                potential_parents = random.choice(population,weight=fitness)\n",
    "                if constraint1(potential_parents[0],potential_parents[1]) and constraint2(potential_parents[0],potential_parents[1]):\n",
    "                    parents.append(potential_parents)\n",
    "    \n",
    "        # Crossover\n",
    "        offspring = []\n",
    "        for i in range(population_size):\n",
    "            parent1,parent2 = random.choices(parents,k=2)\n",
    "            x1_child = random.uniform(min(parent1[0],parent2[0]),max(parent1[0],parent2[0]))\n",
    "            x2_child = random.uniform(min(parent1[1],parent2[1]),max(parent1[1],parent2[1]))\n",
    "            offspring.append((x1_child,x2_child))\n",
    "    \n",
    "        # Mutation\n",
    "        mutation_rate = 1/(generation+1) #Dynamic mutation rate \n",
    "        for i in range(population_size):\n",
    "            if random.random()<mutation_rate:\n",
    "                offspring[i] = (random.uniform(0,40),random.uniform(0,60))\n",
    "        # Elitism\n",
    "        if best_solution is not None:\n",
    "            offspring[0] = best_solution\n",
    "\n",
    "        population = offspring\n",
    "\n",
    "        #finding the best feasible solution\n",
    "        feasible_solutions = [(x1,x2) for (x1,x2) in population if constraint1(x1,x2) and constraint2(x1,x2)]\n",
    "        if feasible_solutions:\n",
    "            best_solution = max(feasible_solutions,key=lambda x: objective_function(x[0],x[1]))\n",
    "            best_fitness = objective_function(best_solution[0],best_solution[1])\n",
    "        fitness_history.append(best_fitness)\n",
    "\n",
    "        print(f\"Generation{generation+1}: Best solution = {best_solution},Best fitness = {best_fitness}\")\n",
    "\n",
    "    #plotting the fitness progress\n",
    "    plt.plot(range(1,num_generation+1), fitness_history)\n",
    "    plt.xlabel(\"Generation\")\n",
    "    plt.ylabel(\"Best Fitness\")\n",
    "    plt.title(\"Algorithm - Fitness Progress\")\n",
    "    plt.show()\n",
    "\n",
    "    return best_solution,best_fitness"
   ]
  },
  {
   "cell_type": "markdown",
   "id": "120e226f-2d8a-4348-9253-c84950021751",
   "metadata": {},
   "source": [
    "**Calling the Genetic Algorithm Function**"
   ]
  },
  {
   "cell_type": "code",
   "execution_count": 4,
   "id": "87e66665-a4f5-42b0-9c46-d7edd2c6de73",
   "metadata": {},
   "outputs": [
    {
     "name": "stdout",
     "output_type": "stream",
     "text": [
      "Generation1: Best solution = (15.821899477892604, 20.76410242894155),Best fitness = 125.57990519839507\n",
      "Generation2: Best solution = (20.33325575727844, 18.387273810307022),Best fitness = 136.4948444600348\n",
      "Generation3: Best solution = (20.33325575727844, 18.387273810307022),Best fitness = 136.4948444600348\n",
      "Generation4: Best solution = (18.663062827471336, 21.234023972933315),Best fitness = 138.3543232286853\n",
      "Generation5: Best solution = (18.663062827471336, 21.234023972933315),Best fitness = 138.3543232286853\n",
      "Generation6: Best solution = (18.663062827471336, 21.234023972933315),Best fitness = 138.3543232286853\n",
      "Generation7: Best solution = (18.663062827471336, 21.234023972933315),Best fitness = 138.3543232286853\n",
      "Generation8: Best solution = (18.663062827471336, 21.234023972933315),Best fitness = 138.3543232286853\n",
      "Generation9: Best solution = (18.663062827471336, 21.234023972933315),Best fitness = 138.3543232286853\n",
      "Generation10: Best solution = (18.663062827471336, 21.234023972933315),Best fitness = 138.3543232286853\n",
      "Generation11: Best solution = (18.663062827471336, 21.234023972933315),Best fitness = 138.3543232286853\n",
      "Generation12: Best solution = (18.663062827471336, 21.234023972933315),Best fitness = 138.3543232286853\n",
      "Generation13: Best solution = (18.663062827471336, 21.234023972933315),Best fitness = 138.3543232286853\n",
      "Generation14: Best solution = (18.663062827471336, 21.234023972933315),Best fitness = 138.3543232286853\n",
      "Generation15: Best solution = (18.663062827471336, 21.234023972933315),Best fitness = 138.3543232286853\n",
      "Generation16: Best solution = (18.663062827471336, 21.234023972933315),Best fitness = 138.3543232286853\n",
      "Generation17: Best solution = (18.663062827471336, 21.234023972933315),Best fitness = 138.3543232286853\n",
      "Generation18: Best solution = (18.663062827471336, 21.234023972933315),Best fitness = 138.3543232286853\n",
      "Generation19: Best solution = (18.663062827471336, 21.234023972933315),Best fitness = 138.3543232286853\n",
      "Generation20: Best solution = (18.663062827471336, 21.234023972933315),Best fitness = 138.3543232286853\n",
      "Generation21: Best solution = (18.663062827471336, 21.234023972933315),Best fitness = 138.3543232286853\n",
      "Generation22: Best solution = (18.663062827471336, 21.234023972933315),Best fitness = 138.3543232286853\n",
      "Generation23: Best solution = (18.663062827471336, 21.234023972933315),Best fitness = 138.3543232286853\n",
      "Generation24: Best solution = (18.663062827471336, 21.234023972933315),Best fitness = 138.3543232286853\n",
      "Generation25: Best solution = (18.663062827471336, 21.234023972933315),Best fitness = 138.3543232286853\n",
      "Generation26: Best solution = (18.663062827471336, 21.234023972933315),Best fitness = 138.3543232286853\n",
      "Generation27: Best solution = (18.663062827471336, 21.234023972933315),Best fitness = 138.3543232286853\n",
      "Generation28: Best solution = (18.663062827471336, 21.234023972933315),Best fitness = 138.3543232286853\n",
      "Generation29: Best solution = (18.663062827471336, 21.234023972933315),Best fitness = 138.3543232286853\n",
      "Generation30: Best solution = (18.663062827471336, 21.234023972933315),Best fitness = 138.3543232286853\n",
      "Generation31: Best solution = (18.663062827471336, 21.234023972933315),Best fitness = 138.3543232286853\n",
      "Generation32: Best solution = (18.663062827471336, 21.234023972933315),Best fitness = 138.3543232286853\n",
      "Generation33: Best solution = (18.663062827471336, 21.234023972933315),Best fitness = 138.3543232286853\n",
      "Generation34: Best solution = (18.663062827471336, 21.234023972933315),Best fitness = 138.3543232286853\n",
      "Generation35: Best solution = (18.663062827471336, 21.234023972933315),Best fitness = 138.3543232286853\n",
      "Generation36: Best solution = (18.663062827471336, 21.234023972933315),Best fitness = 138.3543232286853\n",
      "Generation37: Best solution = (18.663062827471336, 21.234023972933315),Best fitness = 138.3543232286853\n",
      "Generation38: Best solution = (18.663062827471336, 21.234023972933315),Best fitness = 138.3543232286853\n",
      "Generation39: Best solution = (18.663062827471336, 21.234023972933315),Best fitness = 138.3543232286853\n",
      "Generation40: Best solution = (18.663062827471336, 21.234023972933315),Best fitness = 138.3543232286853\n",
      "Generation41: Best solution = (18.663062827471336, 21.234023972933315),Best fitness = 138.3543232286853\n",
      "Generation42: Best solution = (18.663062827471336, 21.234023972933315),Best fitness = 138.3543232286853\n",
      "Generation43: Best solution = (18.663062827471336, 21.234023972933315),Best fitness = 138.3543232286853\n",
      "Generation44: Best solution = (18.663062827471336, 21.234023972933315),Best fitness = 138.3543232286853\n",
      "Generation45: Best solution = (18.663062827471336, 21.234023972933315),Best fitness = 138.3543232286853\n",
      "Generation46: Best solution = (18.663062827471336, 21.234023972933315),Best fitness = 138.3543232286853\n",
      "Generation47: Best solution = (18.663062827471336, 21.234023972933315),Best fitness = 138.3543232286853\n",
      "Generation48: Best solution = (18.663062827471336, 21.234023972933315),Best fitness = 138.3543232286853\n",
      "Generation49: Best solution = (18.663062827471336, 21.234023972933315),Best fitness = 138.3543232286853\n",
      "Generation50: Best solution = (18.663062827471336, 21.234023972933315),Best fitness = 138.3543232286853\n"
     ]
    },
    {
     "data": {
      "image/png": "[encoded data removed]",
      "text/plain": [
       "<Figure size 640x480 with 1 Axes>"
      ]
     },
     "metadata": {},
     "output_type": "display_data"
    },
    {
     "name": "stdout",
     "output_type": "stream",
     "text": [
      "Final best solution: (18.663062827471336, 21.234023972933315)\n",
      "Final best fitness: 138.3543232286853\n"
     ]
    }
   ],
   "source": [
    "population_size = 100\n",
    "num_generation = 50\n",
    "\n",
    "best_solution,best_fitness = genetic_algorithm(population_size,num_generation)\n",
    "\n",
    "if best_solution is not None:\n",
    "    print(\"Final best solution:\",best_solution)\n",
    "    print(\"Final best fitness:\",best_fitness)\n",
    "else:\n",
    "    print(\"No feasible solution found within the given constraints\")"
   ]
  },
  {
   "cell_type": "code",
   "execution_count": null,
   "id": "dd974ada-4435-4010-b04c-b41adcfc7791",
   "metadata": {},
   "outputs": [],
   "source": []
  }
 ],
 "metadata": {
  "kernelspec": {
   "display_name": "Python 3 (ipykernel)",
   "language": "python",
   "name": "python3"
  },
  "language_info": {
   "codemirror_mode": {
    "name": "ipython",
    "version": 3
   },
   "file_extension": ".py",
   "mimetype": "text/x-python",
   "name": "python",
   "nbconvert_exporter": "python",
   "pygments_lexer": "ipython3",
   "version": "3.11.3"
  }
 },
 "nbformat": 4,
 "nbformat_minor": 5
}
